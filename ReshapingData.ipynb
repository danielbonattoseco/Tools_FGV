{
 "cells": [
  {
   "cell_type": "markdown",
   "id": "5cd47911",
   "metadata": {},
   "source": [
    "# Data Reshaping\n",
    "\n",
    "\n",
    "Let me get the data on Covid again:"
   ]
  },
  {
   "cell_type": "code",
   "execution_count": null,
   "id": "932301d0",
   "metadata": {},
   "outputs": [],
   "source": [
    "import pandas as pd\n",
    "import glob\n",
    "import os\n",
    "\n",
    "all_names = glob.glob(os.path.join('DataFiles' , \"*2022.csv\"))\n",
    "\n",
    "dfs=[pd.read_csv(name,sep=\";\") for name in all_names]\n",
    "\n",
    "covid=pd.concat(dfs,ignore_index=True,copy=False)"
   ]
  },
  {
   "cell_type": "markdown",
   "id": "fab51a1a",
   "metadata": {},
   "source": [
    "We speak of the **long** and the **wide** shape. As you can see the covid data is in the former:"
   ]
  },
  {
   "cell_type": "code",
   "execution_count": null,
   "id": "478e8733",
   "metadata": {
    "scrolled": true
   },
   "outputs": [],
   "source": [
    "covid.head(10)"
   ]
  },
  {
   "cell_type": "markdown",
   "id": "a4cf2f51",
   "metadata": {},
   "source": [
    "Long format is efficient, but some operations may need a wide format:"
   ]
  },
  {
   "cell_type": "code",
   "execution_count": null,
   "id": "6ff2b501",
   "metadata": {},
   "outputs": [],
   "source": [
    "covidSemanaW=pd.pivot_table(covid,\n",
    "                            values='casosNovos', \n",
    "                            index=['estado'],\n",
    "                            columns=['semanaEpi'],# to long\n",
    "                            aggfunc=sum)\n",
    "\n",
    "covidSemanaW"
   ]
  },
  {
   "cell_type": "markdown",
   "id": "733d8fe9",
   "metadata": {},
   "source": [
    "Notice the column names:"
   ]
  },
  {
   "cell_type": "code",
   "execution_count": null,
   "id": "aebdbfd7",
   "metadata": {},
   "outputs": [],
   "source": [
    "covidSemanaW.columns"
   ]
  },
  {
   "cell_type": "markdown",
   "id": "6be4c81f",
   "metadata": {},
   "source": [
    "Pandas gave a name to all the columns ('_semanaEpi_'), which is saved from the original data."
   ]
  },
  {
   "cell_type": "code",
   "execution_count": null,
   "id": "c2e3a9d2",
   "metadata": {},
   "outputs": [],
   "source": [
    "covidSemanaW.reset_index().rename_axis(index=None, columns=None)"
   ]
  },
  {
   "cell_type": "markdown",
   "id": "4ecbea33",
   "metadata": {},
   "source": [
    "We could save this, dropping the last column:"
   ]
  },
  {
   "cell_type": "code",
   "execution_count": null,
   "id": "2640acba",
   "metadata": {},
   "outputs": [],
   "source": [
    "covidSemanaW=covidSemanaW.reset_index().rename_axis(index=None, columns=None)\n",
    "covidSemanaW.drop(columns=[52],inplace=True)\n",
    "covidSemanaW.to_csv(os.path.join('DataFiles','covidSemanaW.csv'),index=False)"
   ]
  },
  {
   "cell_type": "markdown",
   "id": "1ea44f80",
   "metadata": {},
   "source": [
    "We should be able to transfor this wide version into a long one:"
   ]
  },
  {
   "cell_type": "code",
   "execution_count": null,
   "id": "bce7355d",
   "metadata": {},
   "outputs": [],
   "source": [
    "covidSemanaL=covidSemanaW.set_index('estado').stack().reset_index()\n",
    "covidSemanaL"
   ]
  },
  {
   "cell_type": "code",
   "execution_count": null,
   "id": "1401885d",
   "metadata": {},
   "outputs": [],
   "source": [
    "# you can save after renaming\n",
    "covidSemanaL.rename(columns={'level_1':'semanaEpi',0:'cases'},inplace=True)\n",
    "covidSemanaW.to_csv(os.path.join('DataFiles','covidSemanaL.csv'),index=False)"
   ]
  },
  {
   "cell_type": "markdown",
   "id": "6b5230cc",
   "metadata": {},
   "source": [
    "Let's make it little more complex:"
   ]
  },
  {
   "cell_type": "code",
   "execution_count": null,
   "id": "7c870e71",
   "metadata": {},
   "outputs": [],
   "source": [
    "covidSemanaW2=pd.pivot_table(covid,\n",
    "                            values=['casosNovos','obitosNovos'], \n",
    "                            index=['regiao','estado'],\n",
    "                            columns=['semanaEpi'],\n",
    "                            aggfunc=sum)\n",
    "\n",
    "covidSemanaW2"
   ]
  },
  {
   "cell_type": "markdown",
   "id": "c04ffae8",
   "metadata": {},
   "source": [
    "Now you have _multi index_:"
   ]
  },
  {
   "cell_type": "code",
   "execution_count": null,
   "id": "99b2780e",
   "metadata": {},
   "outputs": [],
   "source": [
    "covidSemanaW2.index"
   ]
  },
  {
   "cell_type": "markdown",
   "id": "92946219",
   "metadata": {},
   "source": [
    "This works well:"
   ]
  },
  {
   "cell_type": "code",
   "execution_count": null,
   "id": "3dee7f5d",
   "metadata": {},
   "outputs": [],
   "source": [
    "covidSemanaW2.reset_index()"
   ]
  },
  {
   "cell_type": "markdown",
   "id": "3585825c",
   "metadata": {},
   "source": [
    "Your problem is the column names:"
   ]
  },
  {
   "cell_type": "code",
   "execution_count": null,
   "id": "c71c59d2",
   "metadata": {},
   "outputs": [],
   "source": [
    "covidSemanaW2.columns"
   ]
  },
  {
   "cell_type": "markdown",
   "id": "ce57aec4",
   "metadata": {},
   "source": [
    "Notice that, before making any change, you can easily convert this into a Long format:"
   ]
  },
  {
   "cell_type": "code",
   "execution_count": null,
   "id": "f8e112ba",
   "metadata": {},
   "outputs": [],
   "source": [
    "covidSemanaW2.stack()"
   ]
  },
  {
   "cell_type": "markdown",
   "id": "657ad98d",
   "metadata": {},
   "source": [
    "And, more interesting:"
   ]
  },
  {
   "cell_type": "code",
   "execution_count": null,
   "id": "6a61fc0c",
   "metadata": {},
   "outputs": [],
   "source": [
    "covidSemanaW2.stack([0,1])"
   ]
  },
  {
   "cell_type": "code",
   "execution_count": null,
   "id": "d243a264",
   "metadata": {},
   "outputs": [],
   "source": [
    "covidSemanaW2.stack([0,1]).reset_index()"
   ]
  },
  {
   "cell_type": "code",
   "execution_count": null,
   "id": "8b1e5328",
   "metadata": {},
   "outputs": [],
   "source": [
    "# rename\n",
    "\n",
    "covidSemanaW2_L=covidSemanaW2.stack([0,1]).reset_index()\n",
    "covidSemanaW2_L.rename(columns={'level_2':'measure',0:'counts'},inplace=True)"
   ]
  },
  {
   "cell_type": "code",
   "execution_count": null,
   "id": "6b9878d2",
   "metadata": {},
   "outputs": [],
   "source": [
    "# then\n",
    "\n",
    "covidSemanaW2_L.to_csv(os.path.join('DataFiles','covidSemanaW2_L.csv'),index=False)"
   ]
  },
  {
   "cell_type": "markdown",
   "id": "48a38020",
   "metadata": {},
   "source": [
    "But, if you decided to alter this:"
   ]
  },
  {
   "cell_type": "code",
   "execution_count": null,
   "id": "f5f693ee",
   "metadata": {},
   "outputs": [],
   "source": [
    "covidSemanaW2.columns"
   ]
  },
  {
   "cell_type": "code",
   "execution_count": null,
   "id": "059f30a0",
   "metadata": {},
   "outputs": [],
   "source": [
    "# with something like\n",
    "\n",
    "[\"_\".join((str(a),str(b))) for a,b in covidSemanaW2.columns]"
   ]
  },
  {
   "cell_type": "code",
   "execution_count": null,
   "id": "bcd0c101",
   "metadata": {},
   "outputs": [],
   "source": [
    "NewNames=[\"_\".join((str(a),str(b))) for a,b in covidSemanaW2.columns]\n",
    "covidSemanaW2.columns=NewNames\n",
    "\n",
    "#now you have\n",
    "covidSemanaW2"
   ]
  },
  {
   "cell_type": "markdown",
   "id": "465ea05b",
   "metadata": {},
   "source": [
    "If you start with something like this, you could recover the Multi index:"
   ]
  },
  {
   "cell_type": "code",
   "execution_count": null,
   "id": "86d30d22",
   "metadata": {},
   "outputs": [],
   "source": [
    "pd.MultiIndex.from_tuples(covidSemanaW2.columns.str.split('_').map(tuple))"
   ]
  },
  {
   "cell_type": "code",
   "execution_count": null,
   "id": "6ad625e6",
   "metadata": {},
   "outputs": [],
   "source": []
  }
 ],
 "metadata": {
  "kernelspec": {
   "display_name": "Python 3 (ipykernel)",
   "language": "python",
   "name": "python3"
  },
  "language_info": {
   "codemirror_mode": {
    "name": "ipython",
    "version": 3
   },
   "file_extension": ".py",
   "mimetype": "text/x-python",
   "name": "python",
   "nbconvert_exporter": "python",
   "pygments_lexer": "ipython3",
   "version": "3.9.13"
  }
 },
 "nbformat": 4,
 "nbformat_minor": 5
}
