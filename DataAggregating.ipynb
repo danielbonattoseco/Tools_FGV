{
 "cells": [
  {
   "cell_type": "markdown",
   "id": "5cd47911",
   "metadata": {},
   "source": [
    "# Data Aggregating\n",
    "\n",
    "\n",
    "Sometimes, you need to summarize the unit of analysis at a higher level. This is when you need the aggregating capabilities in Pandas.\n",
    "\n",
    "We will use data from here:"
   ]
  },
  {
   "cell_type": "code",
   "execution_count": null,
   "id": "06ad626f",
   "metadata": {},
   "outputs": [],
   "source": [
    "%%html\n",
    "<iframe width=\"700\" height=\"300\" src=\"https://covid.saude.gov.br/\" allowfullscreen></iframe>\n"
   ]
  },
  {
   "cell_type": "markdown",
   "id": "15c86618",
   "metadata": {},
   "source": [
    "I downloaded the data for 2022 in the _DataFiles_ folder:"
   ]
  },
  {
   "cell_type": "code",
   "execution_count": null,
   "id": "932301d0",
   "metadata": {},
   "outputs": [],
   "source": [
    "import pandas as pd\n",
    "import glob\n",
    "import os\n",
    "\n",
    "all_names = glob.glob(os.path.join('DataFiles' , \"*2022.csv\"))\n",
    "all_names"
   ]
  },
  {
   "cell_type": "code",
   "execution_count": null,
   "id": "71c063b9",
   "metadata": {},
   "outputs": [],
   "source": [
    "dfs=[]\n",
    "for name in all_names:\n",
    "    dfs.append(pd.read_csv(name,sep=\";\"))"
   ]
  },
  {
   "cell_type": "markdown",
   "id": "cebdf4d3",
   "metadata": {},
   "source": [
    "Let's check the names:"
   ]
  },
  {
   "cell_type": "code",
   "execution_count": null,
   "id": "2fa27dfa",
   "metadata": {},
   "outputs": [],
   "source": [
    "for df in dfs:\n",
    "    print(df.columns)"
   ]
  },
  {
   "cell_type": "code",
   "execution_count": null,
   "id": "c01c2bc1",
   "metadata": {},
   "outputs": [],
   "source": [
    "# then\n",
    "covid=pd.concat(dfs,ignore_index=True,copy=False)"
   ]
  },
  {
   "cell_type": "code",
   "execution_count": null,
   "id": "fcc0888e",
   "metadata": {},
   "outputs": [],
   "source": [
    "#import dtale\n",
    "#dtale.show(covid)"
   ]
  },
  {
   "cell_type": "markdown",
   "id": "748d57d7",
   "metadata": {},
   "source": [
    "We have several rows:"
   ]
  },
  {
   "cell_type": "code",
   "execution_count": null,
   "id": "9f352289",
   "metadata": {},
   "outputs": [],
   "source": [
    "covid.shape[0]"
   ]
  },
  {
   "cell_type": "markdown",
   "id": "c7c30023",
   "metadata": {},
   "source": [
    "Let's keep what we need:"
   ]
  },
  {
   "cell_type": "code",
   "execution_count": null,
   "id": "49ca0b68",
   "metadata": {},
   "outputs": [],
   "source": [
    "toSelect=['regiao', 'estado', 'municipio','data', 'semanaEpi','casosNovos', 'obitosNovos']\n",
    "covid=covid[toSelect]"
   ]
  },
  {
   "cell_type": "code",
   "execution_count": null,
   "id": "ec5f33df",
   "metadata": {},
   "outputs": [],
   "source": [
    "# you have the data at the municipal level\n",
    "\n",
    "covid.head()"
   ]
  },
  {
   "cell_type": "markdown",
   "id": "18e9b454",
   "metadata": {},
   "source": [
    "Let's aggregate:"
   ]
  },
  {
   "cell_type": "code",
   "execution_count": null,
   "id": "670aeab4",
   "metadata": {},
   "outputs": [],
   "source": [
    "# sum of cases by estado\n",
    "covid.groupby('estado').agg({'casosNovos': 'sum'})"
   ]
  },
  {
   "cell_type": "code",
   "execution_count": null,
   "id": "b0a89339",
   "metadata": {},
   "outputs": [],
   "source": [
    "# of course you can do this:\n",
    "covid.groupby(['estado','semanaEpi']).agg({'casosNovos': 'sum'})"
   ]
  },
  {
   "cell_type": "code",
   "execution_count": null,
   "id": "6d3f6717",
   "metadata": {},
   "outputs": [],
   "source": [
    "# or more complex:\n",
    "covid.groupby(['estado','semanaEpi']).agg({'casosNovos': ['sum','mean']})"
   ]
  },
  {
   "cell_type": "code",
   "execution_count": null,
   "id": "3b031585",
   "metadata": {},
   "outputs": [],
   "source": [
    "# sum of cases and deaths by estado\n",
    "covidAGG=covid.groupby('estado').agg({'casosNovos': 'sum', 'obitosNovos': 'sum'})\n",
    "covidAGG"
   ]
  },
  {
   "cell_type": "markdown",
   "id": "0400694a",
   "metadata": {},
   "source": [
    "Notice that the _state_ name is the index:"
   ]
  },
  {
   "cell_type": "code",
   "execution_count": null,
   "id": "5904f075",
   "metadata": {},
   "outputs": [],
   "source": [
    "covidAGG.columns"
   ]
  },
  {
   "cell_type": "markdown",
   "id": "9984fb90",
   "metadata": {},
   "source": [
    "You can save it like this:\n",
    "**covidAGG.to_csv(os.path.join(\"DataFiles\",\"Aggregated_Covid.csv\"),index=True)**"
   ]
  },
  {
   "cell_type": "markdown",
   "id": "7d572145",
   "metadata": {},
   "source": [
    "Or you can send the index into dataframe:"
   ]
  },
  {
   "cell_type": "code",
   "execution_count": null,
   "id": "49d2cc6b",
   "metadata": {},
   "outputs": [],
   "source": [
    "covidAGG.reset_index() #you don't drop it!!"
   ]
  },
  {
   "cell_type": "code",
   "execution_count": null,
   "id": "1e1a52c5",
   "metadata": {},
   "outputs": [],
   "source": [
    "import os\n",
    "\n",
    "covidAGG=covidAGG.reset_index()\n",
    "covidAGG.to_csv(os.path.join(\"DataFiles\",\"Aggregated_Covid.csv\"),index=False)"
   ]
  },
  {
   "cell_type": "code",
   "execution_count": null,
   "id": "a399fbe9",
   "metadata": {},
   "outputs": [],
   "source": []
  }
 ],
 "metadata": {
  "kernelspec": {
   "display_name": "Python 3 (ipykernel)",
   "language": "python",
   "name": "python3"
  },
  "language_info": {
   "codemirror_mode": {
    "name": "ipython",
    "version": 3
   },
   "file_extension": ".py",
   "mimetype": "text/x-python",
   "name": "python",
   "nbconvert_exporter": "python",
   "pygments_lexer": "ipython3",
   "version": "3.9.13"
  }
 },
 "nbformat": 4,
 "nbformat_minor": 5
}
