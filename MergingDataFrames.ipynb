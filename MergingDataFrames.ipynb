{
 "cells": [
  {
   "cell_type": "markdown",
   "id": "a8ae6a60",
   "metadata": {},
   "source": [
    "# Merging Data Frames\n",
    "\n",
    "The Merging stage is an operation at the data frame level (not a cell operation). \n",
    "\n",
    "The merging process combines **TWO** data frames, if and only if, they each have a column that is _technically_ the same (both match). Unmatched values will not be part of the output. If you have messy data, you need to clean at least those **key** columns for the match to work.\n",
    "\n",
    "Let's see some data. First, a previously  formatted data from this webpage:"
   ]
  },
  {
   "cell_type": "code",
   "execution_count": null,
   "id": "3668bf3a",
   "metadata": {},
   "outputs": [],
   "source": [
    "%%html\n",
    "<iframe width=\"700\" height=\"300\" src=\"https://en.wikipedia.org/wiki/List_of_freedom_indices\" allowfullscreen></iframe>\n"
   ]
  },
  {
   "cell_type": "markdown",
   "id": "e5f6027b",
   "metadata": {},
   "source": [
    "Let's use the pickle version:"
   ]
  },
  {
   "cell_type": "code",
   "execution_count": null,
   "id": "11328172",
   "metadata": {},
   "outputs": [],
   "source": [
    "import pandas as pd\n",
    "import os\n",
    "\n",
    "\n",
    "allFree=pd.read_pickle(os.path.join(\"DataFiles\",\"allFree.pkl\") )  "
   ]
  },
  {
   "cell_type": "markdown",
   "id": "98e3f157",
   "metadata": {},
   "source": [
    "Now, let's bring this other one:"
   ]
  },
  {
   "cell_type": "code",
   "execution_count": null,
   "id": "47ebc73b",
   "metadata": {},
   "outputs": [],
   "source": [
    "%%html\n",
    "\n",
    "<iframe width=\"700\" height=\"300\" src=\"https://www.cia.gov/the-world-factbook/field/military-expenditures/country-comparison\" allowfullscreen></iframe>\n"
   ]
  },
  {
   "cell_type": "code",
   "execution_count": null,
   "id": "4f3620e5",
   "metadata": {},
   "outputs": [],
   "source": [
    "linkCIA=\"https://www.cia.gov/the-world-factbook/field/military-expenditures/country-comparison\"\n",
    "mil=pd.read_html(linkCIA,flavor='bs4')\n",
    "len(mil)"
   ]
  },
  {
   "cell_type": "code",
   "execution_count": null,
   "id": "831146bb",
   "metadata": {
    "scrolled": true
   },
   "outputs": [],
   "source": [
    "# the only one\n",
    "mil[0]"
   ]
  },
  {
   "cell_type": "markdown",
   "id": "cbf7f3da",
   "metadata": {},
   "source": [
    "Let's check format:"
   ]
  },
  {
   "cell_type": "code",
   "execution_count": null,
   "id": "a0d975cd",
   "metadata": {},
   "outputs": [],
   "source": [
    "mil[0].info()"
   ]
  },
  {
   "cell_type": "markdown",
   "id": "6b76b02e",
   "metadata": {},
   "source": [
    "Let's keep the columns we need from the data frame:"
   ]
  },
  {
   "cell_type": "code",
   "execution_count": null,
   "id": "bd1a13a5",
   "metadata": {},
   "outputs": [],
   "source": [
    "mil[0]=mil[0].iloc[:,[1,2]]\n",
    "mil[0].head()"
   ]
  },
  {
   "cell_type": "markdown",
   "id": "6d50990f",
   "metadata": {},
   "source": [
    "Let's create a new data frame, while renaming the second column with a simpler name:"
   ]
  },
  {
   "cell_type": "code",
   "execution_count": null,
   "id": "8c0a67af",
   "metadata": {},
   "outputs": [],
   "source": [
    "mili=mil[0].rename(columns={\"% of GDP\": \"mili_pctGDP\"})\n",
    "mili.head()"
   ]
  },
  {
   "cell_type": "markdown",
   "id": "3c92f5bc",
   "metadata": {},
   "source": [
    "## Checking amount of matches\n",
    "\n",
    "Let's just do the merge and check how many rows resulted. The common column we need for the matching is _Country_ in both data frames.\n"
   ]
  },
  {
   "cell_type": "code",
   "execution_count": null,
   "id": "c09bc4d8",
   "metadata": {},
   "outputs": [],
   "source": [
    "allFree.shape , mili.shape,allFree.merge(mili).shape"
   ]
  },
  {
   "cell_type": "markdown",
   "id": "9d110bea",
   "metadata": {},
   "source": [
    "The **mili** data frame has 166 rows, so we will not be able to get 197 rows, the amount of rows in _allFree_. However, we just matched 159. \n",
    "\n",
    "In this situation, let's see if we can recover more matches."
   ]
  },
  {
   "cell_type": "code",
   "execution_count": null,
   "id": "e696df55",
   "metadata": {},
   "outputs": [],
   "source": [
    "# I will try to recover some of these\n",
    "InMiliNotInFree=list(set(mili.Country)-set(allFree.Country))\n",
    "InMiliNotInFree"
   ]
  },
  {
   "cell_type": "code",
   "execution_count": null,
   "id": "ca11a9dd",
   "metadata": {},
   "outputs": [],
   "source": [
    "# I hope this countries can match\n",
    "InFreeUnmatched=list(set(allFree.Country)-set(mili.Country))\n",
    "InFreeUnmatched"
   ]
  },
  {
   "cell_type": "markdown",
   "id": "d4a69c14",
   "metadata": {},
   "source": [
    "## Fyzzy matching\n",
    "\n",
    "Let's try to match strings that are NOT equally written. You need to previously install:\n",
    "* thefuzz (use _pip install thefuzz_)\n",
    "* python-Levenshtein  (use _pip python-Levenshtein_)"
   ]
  },
  {
   "cell_type": "code",
   "execution_count": null,
   "id": "7b0f210e",
   "metadata": {},
   "outputs": [],
   "source": [
    "from thefuzz import process\n",
    "\n",
    "[(country, process.extractOne(country, InFreeUnmatched)) for country in sorted(InMiliNotInFree)]"
   ]
  },
  {
   "cell_type": "markdown",
   "id": "87e02d84",
   "metadata": {},
   "source": [
    "Great!...we found good matches. Let's build a dictionary:"
   ]
  },
  {
   "cell_type": "code",
   "execution_count": null,
   "id": "861b2783",
   "metadata": {},
   "outputs": [],
   "source": [
    "changesMili={country: process.extractOne(country, InFreeUnmatched)[0] for country in sorted(InMiliNotInFree)}\n",
    "changesMili"
   ]
  },
  {
   "cell_type": "code",
   "execution_count": null,
   "id": "9bf4361e",
   "metadata": {},
   "outputs": [],
   "source": [
    "mili.Country.replace(changesMili,inplace=True)"
   ]
  },
  {
   "cell_type": "markdown",
   "id": "5137726c",
   "metadata": {},
   "source": [
    "Let's recheck the amount of matches:"
   ]
  },
  {
   "cell_type": "code",
   "execution_count": null,
   "id": "95c0ffc2",
   "metadata": {},
   "outputs": [],
   "source": [
    "allFree.shape , mili.shape,allFree.merge(mili).shape"
   ]
  },
  {
   "cell_type": "markdown",
   "id": "11d120bf",
   "metadata": {},
   "source": [
    "Let me create the new data frame, being a little over explicit:"
   ]
  },
  {
   "cell_type": "code",
   "execution_count": null,
   "id": "13344209",
   "metadata": {},
   "outputs": [],
   "source": [
    "# in case you have different names in the matching columns:\n",
    "freemili=allFree.merge(mili,left_on='Country', right_on='Country')\n",
    "freemili"
   ]
  },
  {
   "cell_type": "markdown",
   "id": "d16bf289",
   "metadata": {},
   "source": [
    "We can save this for R and Python :"
   ]
  },
  {
   "cell_type": "code",
   "execution_count": null,
   "id": "07bdcf8d",
   "metadata": {},
   "outputs": [],
   "source": [
    "# for Python\n",
    "\n",
    "import os\n",
    "freemili.to_pickle(os.path.join(\"DataFiles\",\"mergedData.pkl\"))"
   ]
  },
  {
   "cell_type": "code",
   "execution_count": null,
   "id": "6c3bd1a6",
   "metadata": {},
   "outputs": [],
   "source": [
    "# for R\n",
    "\n",
    "from rpy2.robjects import pandas2ri\n",
    "pandas2ri.activate()\n",
    "\n",
    "from rpy2.robjects.packages import importr\n",
    "\n",
    "base = importr('base')\n",
    "base.saveRDS(freemili,file=os.path.join('DataFiles','mergedData.RDS'))"
   ]
  },
  {
   "cell_type": "code",
   "execution_count": null,
   "id": "78369b8f",
   "metadata": {},
   "outputs": [],
   "source": []
  }
 ],
 "metadata": {
  "kernelspec": {
   "display_name": "Python 3 (ipykernel)",
   "language": "python",
   "name": "python3"
  },
  "language_info": {
   "codemirror_mode": {
    "name": "ipython",
    "version": 3
   },
   "file_extension": ".py",
   "mimetype": "text/x-python",
   "name": "python",
   "nbconvert_exporter": "python",
   "pygments_lexer": "ipython3",
   "version": "3.9.13"
  }
 },
 "nbformat": 4,
 "nbformat_minor": 5
}
