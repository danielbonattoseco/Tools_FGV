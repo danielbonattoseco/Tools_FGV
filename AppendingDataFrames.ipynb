{
 "cells": [
  {
   "cell_type": "markdown",
   "id": "d317c804",
   "metadata": {},
   "source": [
    "# Appending Data Frames\n",
    "\n",
    "Appending is an operation at the data frame level. It is an easy operation when all the data frames have the **same** column names.\n",
    "\n",
    "Let me bring some data frames:"
   ]
  },
  {
   "cell_type": "code",
   "execution_count": null,
   "id": "2be3927e",
   "metadata": {},
   "outputs": [],
   "source": [
    "import pandas as pd\n",
    "import glob\n",
    "import os\n",
    "\n",
    "all_names = glob.glob(os.path.join('DataFiles' , \"*P.csv\"))\n",
    "all_names"
   ]
  },
  {
   "cell_type": "markdown",
   "id": "9b459bb1",
   "metadata": {},
   "source": [
    "As you see, using a pattern in the names of the files is important:"
   ]
  },
  {
   "cell_type": "code",
   "execution_count": null,
   "id": "f05638f9",
   "metadata": {},
   "outputs": [],
   "source": [
    "dfs=[]\n",
    "for name in all_names:\n",
    "    dfs.append(pd.read_csv(name))"
   ]
  },
  {
   "cell_type": "markdown",
   "id": "4647bd00",
   "metadata": {},
   "source": [
    "Let me check if the column names are the same:"
   ]
  },
  {
   "cell_type": "code",
   "execution_count": null,
   "id": "8cbaa5f1",
   "metadata": {},
   "outputs": [],
   "source": [
    "for df in dfs:\n",
    "    print(df.columns)"
   ]
  },
  {
   "cell_type": "markdown",
   "id": "af22b7e8",
   "metadata": {},
   "source": [
    "In this situation, I need to work on the column names of the last one:"
   ]
  },
  {
   "cell_type": "code",
   "execution_count": null,
   "id": "74c0037c",
   "metadata": {},
   "outputs": [],
   "source": [
    "# keep in the rigth order\n",
    "dfs[3]['Combatants']=None\n",
    "dfs[3]=dfs[3][['War', 'Deathrange', 'Date', 'Combatants', 'Location', 'Notes']]"
   ]
  },
  {
   "cell_type": "markdown",
   "id": "e3ecff47",
   "metadata": {},
   "source": [
    "Let's verify:"
   ]
  },
  {
   "cell_type": "code",
   "execution_count": null,
   "id": "2e8cb5d2",
   "metadata": {},
   "outputs": [],
   "source": [
    "# do this again:\n",
    "for df in dfs:\n",
    "    print(df.columns)"
   ]
  },
  {
   "cell_type": "markdown",
   "id": "390f0d84",
   "metadata": {},
   "source": [
    "Now we can append them, and count the amount of rows:"
   ]
  },
  {
   "cell_type": "code",
   "execution_count": null,
   "id": "b2897642",
   "metadata": {},
   "outputs": [],
   "source": [
    "allWars=pd.concat(objs=dfs, # DFs as a list\n",
    "                  axis=0, # one DF on top of the other\n",
    "                  ignore_index=True, #very important\n",
    "                  copy=False)\n",
    "allWars.shape[0]"
   ]
  },
  {
   "cell_type": "markdown",
   "id": "826a00a0",
   "metadata": {},
   "source": [
    "Just verifying:"
   ]
  },
  {
   "cell_type": "code",
   "execution_count": null,
   "id": "b94e5522",
   "metadata": {},
   "outputs": [],
   "source": [
    "dfs[0].shape[0] +dfs[1].shape[0] + dfs[2].shape[0] + dfs[3].shape[0]"
   ]
  },
  {
   "cell_type": "code",
   "execution_count": null,
   "id": "b1df523f",
   "metadata": {},
   "outputs": [],
   "source": [
    "# this is it:\n",
    "\n",
    "allWars"
   ]
  },
  {
   "cell_type": "markdown",
   "id": "80e70041",
   "metadata": {},
   "source": [
    "You can save this now. This still needs cleaning and formatting."
   ]
  },
  {
   "cell_type": "code",
   "execution_count": null,
   "id": "028c2e92",
   "metadata": {},
   "outputs": [],
   "source": [
    "import os\n",
    "\n",
    "whereWars=os.path.join('DataFiles','AllWars_messy.csv')\n",
    "allWars.to_csv(whereWars,index=False)"
   ]
  },
  {
   "cell_type": "code",
   "execution_count": null,
   "id": "9e038365",
   "metadata": {},
   "outputs": [],
   "source": []
  }
 ],
 "metadata": {
  "kernelspec": {
   "display_name": "Python 3 (ipykernel)",
   "language": "python",
   "name": "python3"
  },
  "language_info": {
   "codemirror_mode": {
    "name": "ipython",
    "version": 3
   },
   "file_extension": ".py",
   "mimetype": "text/x-python",
   "name": "python",
   "nbconvert_exporter": "python",
   "pygments_lexer": "ipython3",
   "version": "3.9.13"
  }
 },
 "nbformat": 4,
 "nbformat_minor": 5
}
